{
 "cells": [
  {
   "cell_type": "markdown",
   "metadata": {},
   "source": [
    "# Random Walk Simulation and Market Data Analysis\n",
    "\n",
    "This notebook demonstrates a random walk simulation, analyzes market data, back-tests stock strategies, and applies risk management strategies."
   ]
  },
  {
   "cell_type": "code",
   "execution_count": 1,
   "metadata": {},
   "outputs": [],
   "source": [
    "import numpy as np\n",
    "import matplotlib.pyplot as plt\n",
    "import pandas as pd\n",
    "from tqdm import tqdm\n",
    "import time\n",
    "import yfinance as yf\n",
    "import os\n",
    "\n",
    "CONFIDENCE_LEVEL = 0.95"
   ]
  },
  {
   "cell_type": "markdown",
   "metadata": {},
   "source": [
    "## Generating Random Walk\n",
    "\n",
    "We'll start by generating a random walk with a specified number of steps, mean, and standard deviation."
   ]
  },
  {
   "cell_type": "code",
   "execution_count": 2,
   "metadata": {},
   "outputs": [],
   "source": [
    "def generate_random_walk(n=1000, mean=0, std_dev=1):\n",
    "    return np.cumsum(np.random.normal(mean, std_dev, n))\n",
    "\n",
    "# Generate random walk\n",
    "n = 1000\n",
    "random_walk = generate_random_walk(n=n)\n",
    "random_walk"
   ]
  },
  {
   "cell_type": "markdown",
   "metadata": {},
   "source": [
    "## Simulating Multiple Random Walk Paths\n",
    "\n",
    "Using the generated random walk, we'll simulate multiple paths."
   ]
  },
  {
   "cell_type": "code",
   "execution_count": 3,
   "metadata": {},
   "outputs": [],
   "source": [
    "def monte_carlo_simulation(num_simulations=1000, n=1000, mean=0, std_dev=1):\n",
    "    simulated_series = []\n",
    "    for _ in tqdm(range(num_simulations), desc=\"Monte Carlo Simulation\"):\n",
    "        simulated_series.append(generate_random_walk(n, mean, std_dev))\n",
    "    return np.array(simulated_series)\n",
    "\n",
    "# Perform Monte Carlo simulation\n",
    "num_simulations = 1000\n",
    "simulated_series = monte_carlo_simulation(num_simulations=num_simulations, n=n)\n",
    "simulated_series"
   ]
  },
  {
   "cell_type": "markdown",
   "metadata": {},
   "source": [
    "## Plotting the Simulation Results\n",
    "\n",
    "Finally, we'll plot the results of our Monte Carlo simulation."
   ]
  },
  {
   "cell_type": "code",
   "execution_count": 4,
   "metadata": {},
   "outputs": [],
   "source": [
    "def plot_monte_carlo_simulation(simulated_series):\n",
    "    plt.figure(figsize=(12, 6))\n",
    "    for simulation in simulated_series:\n",
    "        plt.plot(simulation, linewidth=0.6, alpha=0.1)\n",
    "    plt.title('Monte Carlo Simulation of Random Walk')\n",
    "    plt.xlabel('Time')\n",
    "    plt.ylabel('Value')\n",
    "    plt.show()\n",
    "\n",
    "# Plot the results\n",
    "plot_monte_carlo_simulation(simulated_series)"
   ]
  },
  {
   "cell_type": "markdown",
   "metadata": {},
   "source": [
    "## Market Data Analysis\n",
    "\n",
    "We'll fetch market data for a specific stock ticker and analyze it."
   ]
  },
  {
   "cell_type": "code",
   "execution_count": 5,
   "metadata": {},
   "outputs": [],
   "source": [
    "def analyze_market_data(ticker, start_date, end_date):\n",
    "    stock_data = yf.download(ticker, start=start_date, end=end_date)\n",
    "    stock_data['Returns'] = stock_data['Adj Close'].pct_change().dropna()\n",
    "    return stock_data\n",
    "\n",
    "# Example: Analyzing market data for Apple (AAPL)\n",
    "ticker = 'AAPL'\n",
    "start_date = '2020-01-01'\n",
    "end_date = '2023-01-01'\n",
    "stock_data = analyze_market_data(ticker, start_date, end_date)\n",
    "stock_data.head()"
   ]
  },
  {
   "cell_type": "markdown",
   "metadata": {},
   "source": [
    "## Back-Testing Stock Strategies\n",
    "\n",
    "We'll implement a simple moving average crossover strategy and back-test it on historical data."
   ]
  },
  {
   "cell_type": "code",
   "execution_count": 6,
   "metadata": {},
   "outputs": [],
   "source": [
    "def backtest_strategy(ticker, start_date, end_date, short_window=40, long_window=100):\n",
    "    stock_data = analyze_market_data(ticker, start_date, end_date)\n",
    "    stock_data['Short_MA'] = stock_data['Adj Close'].rolling(window=short_window, min_periods=1).mean()\n",
    "    stock_data['Long_MA'] = stock_data['Adj Close'].rolling(window=long_window, min_periods=1).mean()\n",
    "    stock_data['Signal'] = 0\n",
    "    stock_data['Signal'][short_window:] = np.where(stock_data['Short_MA'][short_window:] > stock_data['Long_MA'][short_window:], 1, 0)\n",
    "    stock_data['Position'] = stock_data['Signal'].diff()\n",
    "    return stock_data\n",
    "\n",
    "# Example: Back-testing strategy for Apple (AAPL)\n",
    "backtested_data = backtest_strategy(ticker, start_date, end_date)\n",
    "backtested_data[['Adj Close', 'Short_MA', 'Long_MA', 'Signal', 'Position']].head()"
   ]
  },
  {
   "cell_type": "markdown",
   "metadata": {},
   "source": [
    "## Applying Risk Management Strategy\n",
    "\n",
    "We'll calculate Value at Risk (VaR) and Expected Shortfall (ES) to manage the risk of the portfolio."
   ]
  },
  {
   "cell_type": "code",
   "execution_count": 7,
   "metadata": {},
   "outputs": [],
   "source": [
    "def calculate_var_es(returns, confidence_level=0.95):\n",
    "    var = np.percentile(returns.dropna(), (1-confidence_level)*100)\n",
    "    es = returns[returns <= var].mean()\n",
    "    return var, es\n",
    "\n",
    "# Example: Calculating VaR and ES for Apple (AAPL)\n",
    "returns = stock_data['Returns']\n",
    "var, es = calculate_var_es(returns)\n",
    "var, es"
   ]
  },
  {
   "cell_type": "markdown",
   "metadata": {},
   "source": [
    "## Running the Entire Analysis\n",
    "\n",
    "To run the entire analysis, execute the code below which combines all the steps into a single function."
   ]
  },
  {
   "cell_type": "code",
   "execution_count": 8,
   "metadata": {},
   "outputs": [],
   "source": [
    "def main(n=1000, mean=0, std_dev=1, confidence_level=CONFIDENCE_LEVEL, output_dir=None, ticker=None, start_date=None, end_date=None, backtest=False):\n",
    "    \"\"\"\n",
    "    Main function to run the analysis.\n",
    "    \"\"\"\n",
    "    if backtest and ticker and start_date and end_date:\n",
    "        data = backtest_strategy(ticker, start_date, end_date)\n",
    "    elif ticker and start_date and end_date:\n",
    "        data = analyze_market_data(ticker, start_date, end_date)\n",
    "        returns = data['Returns']\n",
    "        var, es = calculate_var_es(returns, confidence_level)\n",
    "        print(f\"Value at Risk (VaR): {var}\")\n",
    "        print(f\"Expected Shortfall (ES): {es}\")\n",
    "    else:\n",
    "        simulated_series = monte_carlo_simulation(num_simulations=1000, n=n, mean=mean, std_dev=std_dev)\n",
    "        plot_monte_carlo_simulation(simulated_series)\n",
    "\n",
    "if __name__ == \"__main__\":\n",
    "    main()"
   ]
  }
 ],
 "metadata": {
  "kernelspec": {
   "display_name": "Python 3",
   "language": "python",
   "name": "python3"
  },
  "language_info": {
   "codemirror_mode": {
    "name": "ipython",
    "version": 3
   },
   "file_extension": ".py",
   "mimetype": "text/x-python",
   "name": "python",
   "nbconvert_exporter": "python",
   "pygments_lexer": "ipython3",
   "version": "3.8.5"
  }
 },
 "nbformat": 4,
 "nbformat_minor": 4
}
