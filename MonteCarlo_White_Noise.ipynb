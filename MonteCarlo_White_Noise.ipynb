{
 "cells": [
  {
   "cell_type": "markdown",
   "metadata": {},
   "source": [
    "# Monte Carlo Simulation with White Noise\n",
    "\n",
    "This notebook demonstrates a Monte Carlo simulation using a white noise process. We'll generate white noise, simulate multiple paths using the Monte Carlo method, and plot the results."
   ]
  },
  {
   "cell_type": "code",
   "execution_count": 1,
   "metadata": {},
   "outputs": [],
   "source": [
    "import numpy as np\n",
    "import matplotlib.pyplot as plt\n",
    "from tqdm import tqdm\n",
    "import time"
   ]
  },
  {
   "cell_type": "markdown",
   "metadata": {},
   "source": [
    "## Generating White Noise\n",
    "\n",
    "We'll start by generating a series of white noise with a specified mean and standard deviation."
   ]
  },
  {
   "cell_type": "code",
   "execution_count": 2,
   "metadata": {},
   "outputs": [],
   "source": [
    "def generate_white_noise(n=1000, mean=0, std_dev=1):\n",
    "    return np.random.normal(mean, std_dev, n)\n",
    "\n",
    "# Generate white noise\n",
    "n = 1000\n",
    "white_noise = generate_white_noise(n=n)\n",
    "white_noise"
   ]
  },
  {
   "cell_type": "markdown",
   "metadata": {},
   "source": [
    "## Simulating Paths\n",
    "\n",
    "Using the generated white noise, we'll simulate multiple paths."
   ]
  },
  {
   "cell_type": "code",
   "execution_count": 3,
   "metadata": {},
   "outputs": [],
   "source": [
    "def simulate_path(series):\n",
    "    return np.cumsum(np.random.choice(series, size=len(series)))\n",
    "\n",
    "def monte_carlo_simulation(series, num_simulations=1000):\n",
    "    simulated_series = []\n",
    "    for _ in tqdm(range(num_simulations), desc=\"Monte Carlo Simulation\"):\n",
    "        simulated_series.append(simulate_path(series))\n",
    "    return np.array(simulated_series)\n",
    "\n",
    "# Perform Monte Carlo simulation\n",
    "num_simulations = 1000\n",
    "simulated_series = monte_carlo_simulation(white_noise, num_simulations=num_simulations)\n",
    "simulated_series"
   ]
  },
  {
   "cell_type": "markdown",
   "metadata": {},
   "source": [
    "## Plotting the Simulation Results\n",
    "\n",
    "Finally, we'll plot the results of our Monte Carlo simulation."
   ]
  },
  {
   "cell_type": "code",
   "execution_count": 4,
   "metadata": {},
   "outputs": [],
   "source": [
    "def plot_monte_carlo_simulation(simulated_series):\n",
    "    plt.figure(figsize=(12, 6))\n",
    "    for simulation in simulated_series:\n",
    "        plt.plot(simulation, linewidth=0.6, alpha=0.1)\n",
    "    plt.title('Monte Carlo Simulation of White Noise Process')\n",
    "    plt.xlabel('Time')\n",
    "    plt.ylabel('Value')\n",
    "    plt.show()\n",
    "\n",
    "# Plot the results\n",
    "plot_monte_carlo_simulation(simulated_series)"
   ]
  },
  {
   "cell_type": "markdown",
   "metadata": {},
   "source": [
    "## Running the Entire Simulation\n",
    "\n",
    "To run the entire simulation, execute the code below which combines all the steps into a single function."
   ]
  },
  {
   "cell_type": "code",
   "execution_count": 5,
   "metadata": {},
   "outputs": [],
   "source": [
    "def main():\n",
    "    # Generate white noise\n",
    "    n = 1000\n",
    "    white_noise = generate_white_noise(n=n)\n",
    "    \n",
    "    # Perform Monte Carlo simulation\n",
    "    print(f\"Starting Monte Carlo simulation with {n} data points...\")\n",
    "    start_time = time.time()\n",
    "    try:\n",
    "        simulated_series = monte_carlo_simulation(white_noise, num_simulations=1000)\n",
    "        print(f\"Monte Carlo simulation completed in {time.time() - start_time:.2f} seconds.\")\n",
    "        print(f\"Shape of simulated series: {simulated_series.shape}\")\n",
    "        \n",
    "        # Plot the results\n",
    "        plot_monte_carlo_simulation(simulated_series)\n",
    "    except Exception as e:\n",
    "        print(f\"An error occurred during simulation: {str(e)}\")\n",
    "    \n",
    "    print(\"Script execution completed.\")\n",
    "\n",
    "if __name__ == \"__main__\":\n",
    "    main()"
   ]
  }
 ],
 "metadata": {
  "kernelspec": {
   "display_name": "Python 3",
   "language": "python",
   "name": "python3"
  },
  "language_info": {
   "codemirror_mode": {
    "name": "ipython",
    "version": 3
   },
   "file_extension": ".py",
   "mimetype": "text/x-python",
   "name": "python",
   "nbconvert_exporter": "python",
   "pygments_lexer": "ipython3",
   "version": "3.8.5"
  }
 },
 "nbformat": 4,
 "nbformat_minor": 4
}
