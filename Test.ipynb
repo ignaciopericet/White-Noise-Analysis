 {
 "cells": [
  {
   "cell_type": "markdown",
   "metadata": {},
   "source": [
    "# Usage Guide for White Noise Process Study\n",
    "\n",
    "## Introduction\n",
    "This notebook provides a step-by-step guide on how to use the code provided in this repository for studying the White Noise Process. We will cover the following topics:\n",
    "1. Setting up the environment\n",
    "2. Loading the data\n",
    "3. Running the analysis\n",
    "4. Interpreting the results\n"
   ]
  },
  {
   "cell_type": "markdown",
   "metadata": {},
   "source": [
    "## 1. Setting Up the Environment\n",
    "First, ensure you have all the necessary libraries installed. You can install the required dependencies by running:"
   ]
  },
  {
   "cell_type": "code",
   "execution_count": 1,
   "metadata": {},
   "outputs": [],
   "source": [
    "!pip install numpy pandas matplotlib scipy statsmodels"
   ]
  },
  {
   "cell_type": "markdown",
   "metadata": {},
   "source": [
    "## 2. Loading the Data\n",
    "Next, we will load the data used in the analysis. The data should be placed in the `data` directory. For this example, we'll assume the data is in a CSV file named `white_noise_data.csv`."
   ]
  },
  {
   "cell_type": "code",
   "execution_count": 2,
   "metadata": {},
   "outputs": [
    {
     "data": {
      "text/html": [
       "<div>\n",
       "<style scoped>\n",
       "    .dataframe tbody tr th:only-of-type {\n",
       "        vertical-align: middle;\n",
       "    }\n",
       "\n",
       "    .dataframe tbody tr th {\n",
       "        vertical-align: top;\n",
       "    }\n",
       "\n",
       "    .dataframe thead th {\n",
       "        text-align: right;\n",
       "    }\n",
       "</style>\n",
       "<table border=\"1\" class=\"dataframe\">\n",
       "  <thead>\n",
       "    <tr style=\"text-align: right;\">\n",
       "      <th></th>\n",
       "      <th>WhiteNoise</th>\n",
       "    </tr>\n",
       "  </thead>\n",
       "  <tbody>\n",
       "    <tr>\n",
       "      <th>0</th>\n",
       "      <td>0.496714</td>\n",
       "    </tr>\n",
       "    <tr>\n",
       "      <th>1</th>\n",
       "      <td>-0.138264</td>\n",
       "    </tr>\n",
       "    <tr>\n",
       "      <th>2</th>\n",
       "      <td>0.647689</td>\n",
       "    </tr>\n",
       "    <tr>\n",
       "      <th>3</th>\n",
       "      <td>1.523030</td>\n",
       "    </tr>\n",
       "    <tr>\n",
       "      <th>4</th>\n",
       "      <td>-0.234153</td>\n",
       "    </tr>\n",
       "  </tbody>\n",
       "</table>\n",
       "</div>"
      ],
      "text/plain": [
       "   WhiteNoise\n",
       "0    0.496714\n",
       "1   -0.138264\n",
       "2    0.647689\n",
       "3    1.523030\n",
       "4   -0.234153"
      ]
     },
     "execution_count": 2,
     "metadata": {},
     "output_type": "execute_result"
    }
   ],
   "source": [
    "import pandas as pd\n",
    "\n",
    "# Load the data\n",
    "data = pd.read_csv('data/white_noise_data.csv')\n",
    "data.head()"
   ]
  },
  {
   "cell_type": "markdown",
   "metadata": {},
   "source": [
    "## 3. Running the Analysis\n",
    "Now, we'll demonstrate how to run the analysis. This includes generating white noise, fitting an ARIMA model, and visualizing the results.\n",
    "\n",
    "### 3.1 Generating White Noise\n",
    "We'll start by generating a white noise process."
   ]
  },
  {
   "cell_type": "code",
   "execution_count": 3,
   "metadata": {},
   "outputs": [],
   "source": [
    "import numpy as np\n",
    "import matplotlib.pyplot as plt\n",
    "\n",
    "# Generate white noise\n",
    "np.random.seed(42)\n",
    "white_noise = np.random.normal(0, 1, 1000)\n",
    "\n",
    "# Plot the white noise\n",
    "plt.figure(figsize=(10, 6))\n",
    "plt.plot(white_noise)\n",
    "plt.title('White Noise Process')\n",
    "plt.xlabel('Time')\n",
    "plt.ylabel('Value')\n",
    "plt.show()"
   ]
  },
  {
   "cell_type": "markdown",
   "metadata": {},
   "source": [
    "### 3.2 Fitting an ARIMA Model\n",
    "Next, we'll fit an ARIMA model to the white noise data."
   ]
  },
  {
   "cell_type": "code",
   "execution_count": 4,
   "metadata": {},
   "outputs": [
    {
     "data": {
      "text/plain": [
       "                               SARIMAX Results                                \n",
       "===============================================================================\n",
       "Dep. Variable:                      y   No. Observations:                 1000\n",
       "Model:                 ARIMA(0, 0, 0)   Log Likelihood               -1405.230\n",
       "Date:                Tue, 30 Jul 2024   AIC                           2814.459\n",
       "Time:                        12:45:53   BIC                           2824.844\n",
       "Sample:                             0   HQIC                          2818.667\n",
       "                               - 1000                                         \n",
       "Covariance Type:                  opg                                         \n",
       "===============================================================================\n",
       "                 coef    std err          z      P>|z|      [0.025      0.975]\n",
       "-------------------------------------------------------------------------------\n",
       "const          0.0199      0.032      0.625      0.532      -0.043       0.082\n",
       "sigma2         0.9574      0.043     22.303      0.000       0.873       1.042\n",
       "===================================================================================\n",
       "Ljung-Box (L1) (Q):                   0.04   Jarque-Bera (JB):                 0.50\n",
       "Prob(Q):                              0.85   Prob(JB):                         0.78\n",
       "Heteroskedasticity (H):               0.99   Skew:                            -0.04\n",
       "Prob(H) (two-sided):                  0.95   Kurtosis:                         3.08\n",
       "===================================================================================\n",
       "\n",
       "Warnings:\n",
       "[1] Covariance matrix calculated using the outer product of gradients (complex-step)."
      ]
     },
     "execution_count": 4,
     "metadata": {},
     "output_type": "execute_result"
    }
   ],
   "source": [
    "from statsmodels.tsa.arima.model import ARIMA\n",
    "\n",
    "# Fit an ARIMA model\n",
    "model = ARIMA(white_noise, order=(0, 0, 0))\n",
    "model_fit = model.fit()\n",
    "\n",
    "# Print the model summary\n",
    "print(model_fit.summary())"
   ]
  },
  {
   "cell_type": "markdown",
   "metadata": {},
   "source": [
    "### 3.3 Visualizing the Results\n",
    "Finally, we'll visualize the residuals of the ARIMA model to confirm the white noise property."
   ]
  },
  {
   "cell_type": "code",
   "execution_count": 5,
   "metadata": {},
   "outputs": [
    {
     "data": {
      "text/plain": [
       "<Figure size 1000x600 with 1 Axes>"
      ]
     },
     "execution_count": 5,
     "metadata": {},
     "output_type": "execute_result"
    },
    {
     "data": {
      "text/plain": [
       "<Figure size 1000x600 with 1 Axes>"
      ]
     },
     "execution_count": 5,
     "metadata": {},
     "output_type": "execute_result"
    }
   ],
   "source": [
    "residuals = model_fit.resid\n",
    "\n",
    "plt.figure(figsize=(10, 6))\n",
    "plt.plot(residuals)\n",
    "plt.title('Residuals of ARIMA Model')\n",
    "plt.xlabel('Time')\n",
    "plt.ylabel('Residual')\n",
    "plt.show()\n",
    "\n",
    "# Plot ACF of the residuals\n",
    "from statsmodels.graphics.tsaplots import plot_acf\n",
    "\n",
    "plot_acf(residuals, lags=50)\n",
    "plt.show()"
   ]
  },
  {
   "cell_type": "markdown",
   "metadata": {},
   "source": [
    "## 4. Interpreting the Results\n",
    "The residuals of the ARIMA model should resemble white noise if the original data is indeed a white noise process. The ACF plot should show near-zero autocorrelations for all lags.\n",
    "\n",
    "- **White Noise Process Plot**: Shows the randomness of the white noise process.\n",
    "- **ARIMA Model Summary**: Provides details about the fitted ARIMA model.\n",
    "- **Residuals Plot**: Helps verify if the residuals resemble white noise.\n",
    "- **ACF Plot**: Confirms the lack of autocorrelation in the residuals.\n",
    "\n",
    "This concludes the usage guide for the White Noise Process study. For more detailed analysis, refer to the other notebooks in this repository."
   ]
  }
 ],
 "metadata": {
  "kernelspec": {
   "display_name": "Python 3",
   "language": "python",
   "name": "python3"
  },
  "language_info": {
   "codemirror_mode": {
    "name": "ipython",
    "version": 3
   },
   "file_extension": ".py",
   "mimetype": "text/x-python",
   "name": "python",
   "nbconvert_exporter": "python",
   "pygments_lexer": "ipython3",
   "version": "3.8.10"
  }
 },
 "nbformat": 4,
 "nbformat_minor": 5
}
